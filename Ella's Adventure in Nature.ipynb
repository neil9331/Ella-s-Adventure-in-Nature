{
 "cells": [
  {
   "cell_type": "code",
   "execution_count": 17,
   "id": "b9548931-ecab-462f-9388-21d2a8560a85",
   "metadata": {},
   "outputs": [
    {
     "name": "stdout",
     "output_type": "stream",
     "text": [
      "Available Species:\n",
      "1. Red Fox (Rarity: Common, Status: Least Concern).\n",
      "2. Bald Eagle (Rarity: Uncommon, Status: Least Concern).\n",
      "3. Snow Leopard (Rarity: Rare, Status: Vulnerable).\n",
      "4. Giant Panda (Rarity: Very Rare, Status: Endangered).\n"
     ]
    },
    {
     "name": "stdin",
     "output_type": "stream",
     "text": [
      "Choose a species to log by number (0 to finish):  3\n"
     ]
    },
    {
     "name": "stdout",
     "output_type": "stream",
     "text": [
      "Logged Snow Leopard (Rarity: Rare, status: Vulnerable).\n",
      "Available Species:\n",
      "1. Red Fox (Rarity: Common, Status: Least Concern).\n",
      "2. Bald Eagle (Rarity: Uncommon, Status: Least Concern).\n",
      "3. Snow Leopard (Rarity: Rare, Status: Vulnerable).\n",
      "4. Giant Panda (Rarity: Very Rare, Status: Endangered).\n"
     ]
    },
    {
     "name": "stdin",
     "output_type": "stream",
     "text": [
      "Choose a species to log by number (0 to finish):  0\n"
     ]
    },
    {
     "name": "stdout",
     "output_type": "stream",
     "text": [
      "Final Log\n",
      "Species logged\n",
      "- Snow Leopard (Rarity: Rare, status: Vulnerable).\n"
     ]
    }
   ],
   "source": [
    "class Species:\n",
    "    def __init__(self, name, rarity, conversion_status):\n",
    "        self.name = name\n",
    "        self.rarity = rarity\n",
    "        self.conversion_status = conversion_status\n",
    "class Wildlifelog:\n",
    "    def __init__(self, max_logs):\n",
    "        self.species_logged = []\n",
    "        self.max_logs = max_logs\n",
    "    def log_species(self, species):\n",
    "        if len(self.species_logged) < self.max_logs:\n",
    "            self.species_logged.append(species)\n",
    "            print(f\"Logged {species.name} (Rarity: {species.rarity}, status: {species.conversion_status}).\")\n",
    "        else:\n",
    "            print(\"Max logs reached! Cannot log anymore species\")\n",
    "    def display_logs(self):\n",
    "        print(\"Species logged\")\n",
    "        for species in self.species_logged:\n",
    "            print(f\"- {species.name} (Rarity: {species.rarity}, status: {species.conversion_status}).\")\n",
    "species_list = [\n",
    "    Species(\"Red Fox\", \"Common\", \"Least Concern\"),\n",
    "    Species(\"Bald Eagle\", \"Uncommon\", \"Least Concern\"),\n",
    "    Species(\"Snow Leopard\", \"Rare\", \"Vulnerable\"),\n",
    "    Species(\"Giant Panda\", \"Very Rare\", \"Endangered\")\n",
    "]\n",
    "ella_log = Wildlifelog(max_logs = 3)\n",
    "while True:\n",
    "    if len(ella_log.species_logged) >= ella_log.max_logs:\n",
    "        break\n",
    "    print(\"Available Species:\")\n",
    "    for i, species in enumerate(species_list):\n",
    "        print(f\"{i+1}. {species.name} (Rarity: {species.rarity}, Status: {species.conversion_status}).\")\n",
    "    choice = int(input(\"Choose a species to log by number (0 to finish): \")) - 1\n",
    "    if choice == -1:\n",
    "        break\n",
    "    if 0 <= choice < len(species_list):\n",
    "        ella_log.log_species(species_list[choice])\n",
    "    else:\n",
    "        print(\"Invalid choice! try again.\")\n",
    "print(\"Final Log\")\n",
    "ella_log.display_logs()"
   ]
  },
  {
   "cell_type": "code",
   "execution_count": null,
   "id": "5e5a510b-cc03-4469-b5fa-9224efc613e0",
   "metadata": {},
   "outputs": [],
   "source": []
  }
 ],
 "metadata": {
  "kernelspec": {
   "display_name": "Python 3 (ipykernel)",
   "language": "python",
   "name": "python3"
  },
  "language_info": {
   "codemirror_mode": {
    "name": "ipython",
    "version": 3
   },
   "file_extension": ".py",
   "mimetype": "text/x-python",
   "name": "python",
   "nbconvert_exporter": "python",
   "pygments_lexer": "ipython3",
   "version": "3.12.4"
  }
 },
 "nbformat": 4,
 "nbformat_minor": 5
}
